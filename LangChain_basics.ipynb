{
  "nbformat": 4,
  "nbformat_minor": 0,
  "metadata": {
    "colab": {
      "provenance": [],
      "authorship_tag": "ABX9TyOz67hlGBFp9Rig12Q05ihQ",
      "include_colab_link": true
    },
    "kernelspec": {
      "name": "python3",
      "display_name": "Python 3"
    },
    "language_info": {
      "name": "python"
    }
  },
  "cells": [
    {
      "cell_type": "markdown",
      "metadata": {
        "id": "view-in-github",
        "colab_type": "text"
      },
      "source": [
        "<a href=\"https://colab.research.google.com/github/Sheryar-bit/Lang-Chain/blob/main/LangChain_basics.ipynb\" target=\"_parent\"><img src=\"https://colab.research.google.com/assets/colab-badge.svg\" alt=\"Open In Colab\"/></a>"
      ]
    },
    {
      "cell_type": "code",
      "execution_count": null,
      "metadata": {
        "id": "seYjOSz0e9tT"
      },
      "outputs": [],
      "source": [
        "!pip install -q transformers accelerate bitsandbytes langchain langchain-huggingface"
      ]
    },
    {
      "cell_type": "code",
      "source": [
        "from transformers import AutoTokenizer, AutoModelForCausalLM, pipeline\n",
        "from langchain_huggingface import HuggingFacePipeline\n",
        "from langchain_core.prompts import PromptTemplate"
      ],
      "metadata": {
        "id": "4GvpwkWegB5_"
      },
      "execution_count": null,
      "outputs": []
    },
    {
      "cell_type": "code",
      "source": [
        "model_id = \"openai-community/gpt2\"\n",
        "\n",
        "tokenizer = AutoTokenizer.from_pretrained(model_id)\n",
        "model = AutoModelForCausalLM.from_pretrained(\n",
        "    model_id,\n",
        "    device_map=\"auto\",\n",
        "    load_in_4bit=True\n",
        ")"
      ],
      "metadata": {
        "id": "MdOyE21Hgh0l"
      },
      "execution_count": null,
      "outputs": []
    },
    {
      "cell_type": "code",
      "source": [
        "# A simple txt generation pipeline\n",
        "pipe = pipeline(\n",
        "    \"text-generation\",\n",
        "    model=model,\n",
        "    tokenizer=tokenizer,\n",
        "    max_new_tokens=100,\n",
        "    temperature=0.7,\n",
        ")\n",
        "\n",
        "llm = HuggingFacePipeline(pipeline=pipe)"
      ],
      "metadata": {
        "id": "Po_NnrvGiHxL"
      },
      "execution_count": null,
      "outputs": []
    },
    {
      "cell_type": "code",
      "source": [
        "print(\"Q: Explain quantum computing in simple terms\")\n",
        "print(\"A:\", llm.invoke(\"Explain quantum computing in simple terms\"))"
      ],
      "metadata": {
        "id": "4d3T5lKWitbs"
      },
      "execution_count": null,
      "outputs": []
    },
    {
      "cell_type": "code",
      "source": [
        "#Creating and testing a custom prompt template (apna banaya hua)\n",
        "template = \"\"\"You are an expert AI assistant. Provide detailed answers.\n",
        "Question: {question}\n",
        "Answer:\"\"\"\n",
        "prompt = PromptTemplate.from_template(template)\n",
        "\n",
        "chain = prompt | llm #First applying the prompt template then will pass the result to the LLM(this is the modern way, traditional as parameter based)\n",
        "\n",
        "response = chain.invoke({\"question\": \"How to scale your backend server upto 1 million users?\"})\n",
        "print(\"\\nDetailed ans:\")\n",
        "print(response )"
      ],
      "metadata": {
        "id": "I20Vdf_ui66m"
      },
      "execution_count": null,
      "outputs": []
    },
    {
      "cell_type": "code",
      "source": [
        "# another advanced usage could be like multi conversations\n",
        "conversation = [\n",
        "    {\"role\": \"user\", \"content\": \"Tell me about the history of the Pakistan\"},\n",
        "    {\"role\": \"assistant\", \"content\": \"Pakistan was...\"},\n",
        "    {\"role\": \"user\", \"content\": \"What are Pakistan cricket team greatest achievemnts?\"}\n",
        "]\n",
        "#formatting a little bit\n",
        "formatted_conv = \"\\n\".join([f\"{msg['role']}: {msg['content']}\" for msg in conversation])\n",
        "\n",
        "#this will invoke ourr LLm\n",
        "print(llm.invoke(f\"Continue this conversation:\\n{formatted_conv}\\nassistant:\"))"
      ],
      "metadata": {
        "id": "ksqjR6tDjt_9"
      },
      "execution_count": null,
      "outputs": []
    }
  ]
}