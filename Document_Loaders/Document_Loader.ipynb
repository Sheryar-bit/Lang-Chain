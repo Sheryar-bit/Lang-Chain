{
 "cells": [
  {
   "cell_type": "markdown",
   "id": "4cf725ad-7522-4f65-9189-5b6c78666671",
   "metadata": {},
   "source": [
    "DOCUMENT LOADERS:"
   ]
  },
  {
   "cell_type": "markdown",
   "id": "2b389a94-598f-4a1f-87e8-fe7cd3cd6d5e",
   "metadata": {},
   "source": [
    "1- Text Loader"
   ]
  },
  {
   "cell_type": "code",
   "execution_count": 8,
   "id": "de3fa4a8-d96d-405d-9204-6af09f38253f",
   "metadata": {},
   "outputs": [],
   "source": [
    "from langchain_community.document_loaders import TextLoader\n",
    "from langchain_community.document_loaders import PyPDFLoader"
   ]
  },
  {
   "cell_type": "code",
   "execution_count": 9,
   "id": "2b3d38bf-f086-4c14-85e9-d3bc9b29ed06",
   "metadata": {},
   "outputs": [
    {
     "name": "stderr",
     "output_type": "stream",
     "text": [
      "ERROR: Could not find a version that satisfies the requirement PyPDFLoader (from versions: none)\n",
      "ERROR: No matching distribution found for PyPDFLoader\n"
     ]
    }
   ],
   "source": [
    "!pip -q install PyPDFLoader"
   ]
  },
  {
   "cell_type": "code",
   "execution_count": 2,
   "id": "e8ede045-02dd-4701-b80c-b40d98b2b4c6",
   "metadata": {},
   "outputs": [],
   "source": [
    "loader=TextLoader('Tennis.txt', encoding='utf-8')"
   ]
  },
  {
   "cell_type": "code",
   "execution_count": 4,
   "id": "c4533c10-fac6-4132-8697-f514484c01e9",
   "metadata": {},
   "outputs": [],
   "source": [
    "docs = loader.load()"
   ]
  },
  {
   "cell_type": "code",
   "execution_count": 6,
   "id": "d4ce059b-caca-4a73-8322-9d316ec21fe5",
   "metadata": {},
   "outputs": [
    {
     "name": "stdout",
     "output_type": "stream",
     "text": [
      "[Document(metadata={'source': 'Tennis.txt'}, page_content='Tennis is a popular sport played worldwide, known for its combination of physical skill, strategy, and mental toughness. It is typically played between two players (singles) or two teams of two players (doubles) on a rectangular court divided by a net. Players use rackets to hit a felt-covered rubber ball back and forth, aiming to score points when their opponent fails to return the ball within the court’s boundaries. Tennis requires speed, agility, endurance, and precise hand-eye coordination. Beyond physical ability, players must also develop strong tactical thinking to anticipate opponents’ moves, making it both a mental and physical game.\\n')]\n"
     ]
    }
   ],
   "source": [
    "print(docs)"
   ]
  },
  {
   "cell_type": "code",
   "execution_count": 7,
   "id": "abb4660d-f8c4-4b81-92bd-e91424ffcc2a",
   "metadata": {},
   "outputs": [
    {
     "name": "stdout",
     "output_type": "stream",
     "text": [
      "<class 'list'>\n"
     ]
    }
   ],
   "source": [
    "print(type(docs))"
   ]
  },
  {
   "cell_type": "markdown",
   "id": "7be69908-5f67-47a3-abe4-dd16895f76fc",
   "metadata": {},
   "source": [
    "2- PyPDFLoader"
   ]
  },
  {
   "cell_type": "code",
   "execution_count": 11,
   "id": "61e288c4-0c4d-4a1d-b940-6fc911d5da4b",
   "metadata": {},
   "outputs": [],
   "source": [
    "from langchain_community.document_loaders import PyPDFLoader"
   ]
  },
  {
   "cell_type": "code",
   "execution_count": null,
   "id": "b0e73893-95b5-4b8f-abbc-f412896ceac2",
   "metadata": {},
   "outputs": [],
   "source": [
    "!pip install PyPDFLoader"
   ]
  },
  {
   "cell_type": "code",
   "execution_count": 12,
   "id": "ebc4b671-cde5-41fd-a1c8-d1ab85571d87",
   "metadata": {},
   "outputs": [],
   "source": [
    "loader = PyPDFLoader('VCDB.pdf')"
   ]
  },
  {
   "cell_type": "code",
   "execution_count": 13,
   "id": "f96450b1-7328-40c6-a8cf-8cc730b36933",
   "metadata": {},
   "outputs": [],
   "source": [
    "docs=loader.load()"
   ]
  },
  {
   "cell_type": "code",
   "execution_count": 14,
   "id": "9ee36bd0-d5c7-48eb-bd79-0a28b9f773f9",
   "metadata": {},
   "outputs": [
    {
     "name": "stdout",
     "output_type": "stream",
     "text": [
      "[Document(metadata={'producer': 'PyPDF', 'creator': 'Google', 'creationdate': '', 'title': 'Presentation - university', 'source': 'VCDB.pdf', 'total_pages': 16, 'page': 0, 'page_label': '1'}, page_content='Vector Databases: Bridging Semantic Understanding in \\nData Storage'), Document(metadata={'producer': 'PyPDF', 'creator': 'Google', 'creationdate': '', 'title': 'Presentation - university', 'source': 'VCDB.pdf', 'total_pages': 16, 'page': 1, 'page_label': '2'}, page_content='What is a Traditional \\nDatabase?\\n● Traditional databases store data in \\nstructured formats\\n● Typically use tables with predefined \\ncolumns\\n● Limited in handling unstructured data like \\nimages, text, and audio\\n● Metadata and tags provide basic \\ninformation\\n● Struggles with semantic understanding of \\ncomplex data'), Document(metadata={'producer': 'PyPDF', 'creator': 'Google', 'creationdate': '', 'title': 'Presentation - university', 'source': 'VCDB.pdf', 'total_pages': 16, 'page': 2, 'page_label': '3'}, page_content='The Semantic Gap Challenge\\n● Traditional databases cannot capture nuanced data \\ncharacteristics\\n● Difficulty in searching for conceptual similarities\\n● Limited by rigid, structured query methods\\n● Cannot easily find semantically related content\\n● Challenge: How do we represent complex data meaningfully?'), Document(metadata={'producer': 'PyPDF', 'creator': 'Google', 'creationdate': '', 'title': 'Presentation - university', 'source': 'VCDB.pdf', 'total_pages': 16, 'page': 3, 'page_label': '4'}, page_content='Enter Vector Databases\\n● Represent data as mathematical vector \\nembeddings\\n● Convert unstructured data into arrays of \\nnumbers\\n● Each vector captures semantic essence of \\nthe data\\n● Similar items are positioned close together \\nin vector space\\n● Dissimilar items are positioned far apart'), Document(metadata={'producer': 'PyPDF', 'creator': 'Google', 'creationdate': '', 'title': 'Presentation - university', 'source': 'VCDB.pdf', 'total_pages': 16, 'page': 4, 'page_label': '5'}, page_content='What Can Be Stored in Vector Databases?\\n● Images\\n● Text files\\n● Audio recordings\\n● Video content\\n● Complex, unstructured digital objects'), Document(metadata={'producer': 'PyPDF', 'creator': 'Google', 'creationdate': '', 'title': 'Presentation - university', 'source': 'VCDB.pdf', 'total_pages': 16, 'page': 5, 'page_label': '6'}, page_content='Understanding Vector \\nEmbeddings\\n● Arrays of numbers representing data \\nfeatures\\n● Each dimension captures a specific \\ncharacteristic\\n● Can have hundreds or thousands of \\ndimensions\\n● Learned through specialized embedding \\nmodels\\n● Provides a multi-dimensional \\nrepresentation of data'), Document(metadata={'producer': 'PyPDF', 'creator': 'Google', 'creationdate': '', 'title': 'Presentation - university', 'source': 'VCDB.pdf', 'total_pages': 16, 'page': 6, 'page_label': '7'}, page_content='Embedding Models\\n● Specialized models for different data types\\n● Image embeddings: CLIP\\n● Text embeddings: GloVe\\n● Audio embeddings: Wav2vec\\n● Process data through multiple layers\\n● Extract progressively abstract features'), Document(metadata={'producer': 'PyPDF', 'creator': 'Google', 'creationdate': '', 'title': 'Presentation - university', 'source': 'VCDB.pdf', 'total_pages': 16, 'page': 7, 'page_label': '8'}, page_content='How Embedding Models Work\\n● Data passes through multiple neural network layers\\n● Early layers detect basic features\\n● Deeper layers recognize complex characteristics\\n● Produce high-dimensional vectors\\n● Capture essential input characteristics'), Document(metadata={'producer': 'PyPDF', 'creator': 'Google', 'creationdate': '', 'title': 'Presentation - university', 'source': 'VCDB.pdf', 'total_pages': 16, 'page': 8, 'page_label': '9'}, page_content='Similarity Search\\n● Find items similar to a query item\\n● Compare vector positions in vector space\\n● Mathematically calculate proximity\\n● Enables semantic-based retrieval\\n● More nuanced than traditional keyword \\nsearch'), Document(metadata={'producer': 'PyPDF', 'creator': 'Google', 'creationdate': '', 'title': 'Presentation - university', 'source': 'VCDB.pdf', 'total_pages': 16, 'page': 9, 'page_label': '10'}, page_content='Vector Indexing \\nChallenge\\n● Millions of vectors with hundreds of \\ndimensions\\n● Direct comparison is computationally \\nexpensive\\n● Solution: Approximate Nearest Neighbor \\n(ANN) algorithms\\n● Trading slight accuracy for significant \\nspeed\\n● Examples: HNSW and IVF indexing \\nmethods'), Document(metadata={'producer': 'PyPDF', 'creator': 'Google', 'creationdate': '', 'title': 'Presentation - university', 'source': 'VCDB.pdf', 'total_pages': 16, 'page': 10, 'page_label': '11'}, page_content='Practical Application: RAG\\n● Retrieval Augmented Generation (RAG)\\n● Store document chunks as vector embeddings\\n● When a question is asked, find relevant text chunks\\n● Use vector similarity to retrieve information\\n● Feed retrieved data to large language models'), Document(metadata={'producer': 'PyPDF', 'creator': 'Google', 'creationdate': '', 'title': 'Presentation - university', 'source': 'VCDB.pdf', 'total_pages': 16, 'page': 11, 'page_label': '12'}, page_content='Key Advantages\\n● Handle unstructured data effectively\\n● Semantic understanding beyond keywords\\n● Fast and efficient similarity searches\\n● Support complex AI and machine learning \\napplications\\n● Bridge gap between human and computer \\ndata interpretation'), Document(metadata={'producer': 'PyPDF', 'creator': 'Google', 'creationdate': '', 'title': 'Presentation - university', 'source': 'VCDB.pdf', 'total_pages': 16, 'page': 12, 'page_label': '13'}, page_content='Real-World Use Cases\\n● Recommendation systems\\n● Content search engines\\n● Medical image analysis\\n● Natural language processing\\n● Multimedia content management'), Document(metadata={'producer': 'PyPDF', 'creator': 'Google', 'creationdate': '', 'title': 'Presentation - university', 'source': 'VCDB.pdf', 'total_pages': 16, 'page': 13, 'page_label': '14'}, page_content='Embedding Model Training\\n● Requires massive datasets\\n● Supervised and unsupervised learning techniques\\n● Continuous model refinement\\n● Domain-specific training\\n● Improves vector representation accuracy'), Document(metadata={'producer': 'PyPDF', 'creator': 'Google', 'creationdate': '', 'title': 'Presentation - university', 'source': 'VCDB.pdf', 'total_pages': 16, 'page': 14, 'page_label': '15'}, page_content='Future of Vector \\nDatabases\\n● Growing importance in AI and machine \\nlearning\\n● Increasing computational power\\n● More sophisticated embedding models\\n● Broader application across industries\\n● Potential to revolutionize data \\nunderstanding'), Document(metadata={'producer': 'PyPDF', 'creator': 'Google', 'creationdate': '', 'title': 'Presentation - university', 'source': 'VCDB.pdf', 'total_pages': 16, 'page': 15, 'page_label': '16'}, page_content='Reflection and Discussion\\n● How might vector databases transform your field of study?\\n● What challenges do you see in implementing this technology?\\n● Can you imagine innovative applications for semantic data \\nretrieval?\\n● Discuss the potential ethical implications of advanced data \\nrepresentation')]\n"
     ]
    }
   ],
   "source": [
    "print(docs)"
   ]
  },
  {
   "cell_type": "code",
   "execution_count": 15,
   "id": "1d136353-cf78-4439-88f4-210076bc7aff",
   "metadata": {},
   "outputs": [
    {
     "name": "stdout",
     "output_type": "stream",
     "text": [
      "16\n"
     ]
    }
   ],
   "source": [
    "print(len(docs))"
   ]
  },
  {
   "cell_type": "markdown",
   "id": "c547f7c5-e130-4b4b-bf66-04bd5a52c022",
   "metadata": {},
   "source": [
    "3- DIRECTORY LOADER"
   ]
  },
  {
   "cell_type": "code",
   "execution_count": 17,
   "id": "ee091e6a-c1cc-41a7-8ae6-f0d243873cb0",
   "metadata": {},
   "outputs": [],
   "source": [
    "from langchain_community.document_loaders import DirectoryLoader, PyPDFLoader"
   ]
  },
  {
   "cell_type": "code",
   "execution_count": 21,
   "id": "430b2081-9f9c-4e34-b618-9e7d9dc8f74e",
   "metadata": {},
   "outputs": [
    {
     "name": "stderr",
     "output_type": "stream",
     "text": [
      "ERROR: Could not find a version that satisfies the requirement DirectoryLoader (from versions: none)\n",
      "ERROR: No matching distribution found for DirectoryLoader\n"
     ]
    }
   ],
   "source": [
    "!pip -q install DirectoryLoader"
   ]
  },
  {
   "cell_type": "code",
   "execution_count": 22,
   "id": "3b7f6940-0565-4d72-b1b2-02c76ac4b6ba",
   "metadata": {},
   "outputs": [],
   "source": [
    "loader = DirectoryLoader(\n",
    "    path='books',\n",
    "    glob='*.pdf',\n",
    "    loader_cls=PyPDFLoader\n",
    ")"
   ]
  },
  {
   "cell_type": "code",
   "execution_count": 24,
   "id": "f1d3da22-5db4-4a07-ae2b-21419af16d83",
   "metadata": {},
   "outputs": [],
   "source": [
    "# Call the loader function\n",
    "docs=loader.load()"
   ]
  },
  {
   "cell_type": "code",
   "execution_count": null,
   "id": "9885a9d5-46a3-44f1-9e94-3ea84c04700f",
   "metadata": {},
   "outputs": [],
   "source": [
    "print(docs)\n",
    "#Won't print anything at the moment as I hav'ent added any directory"
   ]
  },
  {
   "cell_type": "markdown",
   "id": "1d68daa8-2152-4830-898e-228462f7775a",
   "metadata": {},
   "source": [
    "WEB BASED LOADER: Helps you load any web page content"
   ]
  },
  {
   "cell_type": "code",
   "execution_count": 25,
   "id": "fe6ddf6d-1122-48cd-8fa9-bc3da3df3273",
   "metadata": {},
   "outputs": [
    {
     "name": "stderr",
     "output_type": "stream",
     "text": [
      "USER_AGENT environment variable not set, consider setting it to identify your requests.\n"
     ]
    }
   ],
   "source": [
    "from langchain_community.document_loaders import WebBaseLoader"
   ]
  },
  {
   "cell_type": "code",
   "execution_count": 29,
   "id": "448eed6f-52c0-4055-991b-abc047d65112",
   "metadata": {},
   "outputs": [],
   "source": [
    "url='https://github.com/Sheryar-bit'\n",
    "loader= WebBaseLoader(url)                     #we can also pass list of URLs"
   ]
  },
  {
   "cell_type": "code",
   "execution_count": 27,
   "id": "302cbfd9-7bda-45e7-8efc-7ba150262c1f",
   "metadata": {},
   "outputs": [],
   "source": [
    "docs=loader.load()"
   ]
  },
  {
   "cell_type": "code",
   "execution_count": 28,
   "id": "b77ce109-6920-4523-996d-b7a477438d76",
   "metadata": {},
   "outputs": [
    {
     "name": "stdout",
     "output_type": "stream",
     "text": [
      "[Document(metadata={'source': 'https://github.com/Sheryar-bit', 'title': 'Sheryar-bit (Muhammad Sheryar) · GitHub', 'description': 'Shaping Future Algorithms | LLM Integrations | Backend | Node.JS | NestJS | SQL/NoSQL |  SWE Intern @ SSGC - Sheryar-bit', 'language': 'en'}, page_content=\"\\n\\n\\n\\n\\n\\n\\n\\n\\n\\n\\n\\n\\n\\n\\n\\n\\n\\n\\n\\n\\n\\n\\n\\n\\n\\n\\n\\n\\n\\n\\n\\n\\n\\n\\n\\n\\n\\n\\n\\n\\n\\n\\n\\n\\n\\n\\n\\n\\n\\n\\n\\n\\nSheryar-bit (Muhammad Sheryar) · GitHub\\n\\n\\n\\n\\n\\n\\n\\n\\n\\n\\n\\n\\n\\n\\n\\n\\n\\n\\n\\n\\n\\n\\n\\n\\n\\n\\n\\n\\n\\n\\n\\n\\n\\n\\n\\n\\n\\n\\n\\n\\n\\n\\n\\n\\n\\nSkip to content\\n\\n\\n\\n\\n\\n\\n\\n\\n\\n\\n\\n\\n\\nNavigation Menu\\n\\nToggle navigation\\n\\n\\n\\n\\n \\n\\n\\n\\n\\n\\n\\n\\n\\n\\n\\n\\n\\n\\n            Sign in\\n          \\n\\n\\n \\n\\n\\nAppearance settings\\n\\n\\n\\n\\n\\n\\n\\n\\n\\n\\n\\n        Product\\n        \\n\\n\\n\\n\\n\\n\\n\\n\\n\\n\\n\\n\\n\\n\\n            GitHub Copilot\\n          \\n        Write better code with AI\\n      \\n\\n\\n\\n\\n\\n\\n\\n\\n            GitHub Spark\\n              \\n                New\\n              \\n\\n        Build and deploy intelligent apps\\n      \\n\\n\\n\\n\\n\\n\\n\\n\\n            GitHub Models\\n              \\n                New\\n              \\n\\n        Manage and compare prompts\\n      \\n\\n\\n\\n\\n\\n\\n\\n\\n            GitHub Advanced Security\\n          \\n        Find and fix vulnerabilities\\n      \\n\\n\\n\\n\\n\\n\\n\\n\\n            Actions\\n          \\n        Automate any workflow\\n      \\n\\n\\n\\n\\n\\n\\n\\n\\n\\n\\n\\n\\n\\n\\n            Codespaces\\n          \\n        Instant dev environments\\n      \\n\\n\\n\\n\\n\\n\\n\\n\\n            Issues\\n          \\n        Plan and track work\\n      \\n\\n\\n\\n\\n\\n\\n\\n\\n            Code Review\\n          \\n        Manage code changes\\n      \\n\\n\\n\\n\\n\\n\\n\\n\\n            Discussions\\n          \\n        Collaborate outside of code\\n      \\n\\n\\n\\n\\n\\n\\n\\n\\n            Code Search\\n          \\n        Find more, search less\\n      \\n\\n\\n\\n\\n\\n\\nExplore\\n\\n\\n\\n      Why GitHub\\n\\n    \\n\\n\\n\\n      All features\\n\\n    \\n\\n\\n\\n      Documentation\\n\\n    \\n\\n\\n\\n\\n\\n      GitHub Skills\\n\\n    \\n\\n\\n\\n\\n\\n      Blog\\n\\n    \\n\\n\\n\\n\\n\\n\\n\\n\\n\\n\\n        Solutions\\n        \\n\\n\\n\\n\\n\\n\\nBy company size\\n\\n\\n\\n      Enterprises\\n\\n    \\n\\n\\n\\n      Small and medium teams\\n\\n    \\n\\n\\n\\n      Startups\\n\\n    \\n\\n\\n\\n      Nonprofits\\n\\n    \\n\\n\\n\\n\\nBy use case\\n\\n\\n\\n      DevSecOps\\n\\n    \\n\\n\\n\\n      DevOps\\n\\n    \\n\\n\\n\\n      CI/CD\\n\\n    \\n\\n\\n\\n      View all use cases\\n\\n    \\n\\n\\n\\n\\n\\n\\nBy industry\\n\\n\\n\\n      Healthcare\\n\\n    \\n\\n\\n\\n      Financial services\\n\\n    \\n\\n\\n\\n      Manufacturing\\n\\n    \\n\\n\\n\\n      Government\\n\\n    \\n\\n\\n\\n      View all industries\\n\\n    \\n\\n\\n\\n\\n\\n\\n              View all solutions\\n              \\n\\n\\n \\n\\n\\n\\n\\n        Resources\\n        \\n\\n\\n\\n\\n\\n\\nTopics\\n\\n\\n\\n      AI\\n\\n    \\n\\n\\n\\n      DevOps\\n\\n    \\n\\n\\n\\n      Security\\n\\n    \\n\\n\\n\\n      Software Development\\n\\n    \\n\\n\\n\\n      View all\\n\\n    \\n\\n\\n\\n\\n\\n\\nExplore\\n\\n\\n\\n      Learning Pathways\\n\\n    \\n\\n\\n\\n\\n\\n      Events & Webinars\\n\\n    \\n\\n\\n\\n\\n\\n      Ebooks & Whitepapers\\n\\n    \\n\\n\\n\\n      Customer Stories\\n\\n    \\n\\n\\n\\n      Partners\\n\\n    \\n\\n\\n\\n\\n\\n      Executive Insights\\n\\n    \\n\\n\\n\\n\\n\\n\\n\\n\\n        Open Source\\n        \\n\\n\\n\\n\\n\\n\\n\\n\\n\\n\\n\\n            GitHub Sponsors\\n          \\n        Fund open source developers\\n      \\n\\n\\n\\n\\n\\n\\n\\n\\n\\n            The ReadME Project\\n          \\n        GitHub community articles\\n      \\n\\n\\n\\n\\nRepositories\\n\\n\\n\\n      Topics\\n\\n    \\n\\n\\n\\n      Trending\\n\\n    \\n\\n\\n\\n      Collections\\n\\n    \\n\\n\\n\\n\\n\\n\\n\\n\\n        Enterprise\\n        \\n\\n\\n\\n\\n\\n\\n\\n\\n\\n\\n\\n\\n\\n\\n            Enterprise platform\\n          \\n        AI-powered developer platform\\n      \\n\\n\\n\\n\\nAvailable add-ons\\n\\n\\n\\n\\n\\n\\n\\n\\n            GitHub Advanced Security\\n          \\n        Enterprise-grade security features\\n      \\n\\n\\n\\n\\n\\n\\n\\n\\n            Copilot for business\\n          \\n        Enterprise-grade AI features\\n      \\n\\n\\n\\n\\n\\n\\n\\n\\n            Premium Support\\n          \\n        Enterprise-grade 24/7 support\\n      \\n\\n\\n\\n\\n\\n\\n\\nPricing\\n\\n\\n\\n\\n\\n\\n\\n\\n\\n\\n\\n\\nSearch or jump to...\\n\\n\\n\\n\\n\\n\\n\\nSearch code, repositories, users, issues, pull requests...\\n\\n \\n\\n\\n\\n\\n        Search\\n      \\n\\n\\n\\n\\n\\n\\n\\n\\n\\n\\n\\n\\n\\nClear\\n \\n\\n\\n\\n\\n\\n\\n\\n\\n\\n\\n\\n\\n\\n\\n\\n\\n\\n\\n\\n\\n\\n\\n\\n\\n\\n\\n\\n\\n\\n\\n\\n\\n\\n\\n\\n\\n\\n\\n\\n\\n\\n\\n\\n\\n\\n\\n\\n\\n \\n\\n\\n\\nSearch syntax tips \\n\\n\\n\\n\\n\\n\\n\\n\\n\\n\\n\\n\\n\\n\\n        Provide feedback\\n      \\n\\n\\n\\n\\n\\n\\n\\n\\n\\n \\nWe read every piece of feedback, and take your input very seriously.\\n\\n\\nInclude my email address so I can be contacted\\n\\n\\n     Cancel\\n\\n    Submit feedback\\n\\n\\n\\n\\n\\n\\n\\n\\n\\n\\n        Saved searches\\n      \\nUse saved searches to filter your results more quickly\\n\\n\\n\\n\\n\\n\\n\\n\\n\\n \\n\\n\\n\\n\\n\\nName\\n\\n\\n\\n\\n\\n\\nQuery\\n\\n\\n\\n            To see all available qualifiers, see our documentation.\\n          \\n \\n\\n\\n\\n\\n\\n     Cancel\\n\\n    Create saved search\\n\\n\\n\\n\\n\\n\\n\\n\\n                Sign in\\n              \\n\\n\\n                Sign up\\n              \\n\\n\\n \\n\\n\\nAppearance settings\\n\\n\\n\\nResetting focus\\n\\n\\n\\n\\n\\n\\n\\n\\n\\nYou signed in with another tab or window. Reload to refresh your session.\\nYou signed out in another tab or window. Reload to refresh your session.\\nYou switched accounts on another tab or window. Reload to refresh your session.\\n \\n\\n\\nDismiss alert\\n\\n\\n\\n\\n\\n\\n\\n\\n\\n\\n\\n\\n\\n\\n\\n\\n\\n\\n\\n\\n\\n\\n\\n \\n\\n\\n\\n\\n\\nSheryar-bit\\n\\n\\nFollow\\n\\n\\n\\n\\n\\n\\n \\n\\n\\n\\n\\n\\n    Overview\\n\\n\\n\\n\\n\\n    Repositories\\n    36\\n\\n\\n\\n\\n\\n    Projects\\n    0\\n\\n\\n\\n\\n\\n      Packages\\n      0\\n\\n\\n\\n\\n\\n    Stars\\n    43\\n\\n\\n\\n\\n\\n \\n\\n\\n\\nMore\\n\\n\\n \\n\\n\\nOverview\\n\\n\\nRepositories\\n\\n\\nProjects\\n\\n\\nPackages\\n\\n\\nStars\\n\\n\\n\\n\\n\\n\\n\\n\\n \\n\\n\\n\\n \\n\\n\\n\\n\\n\\n\\n\\nSheryar-bit\\n \\n\\n\\n\\nFollow\\n\\n\\n\\n\\n\\n\\n\\n\\n\\n\\n\\n\\n\\n\\n🏠\\n\\n\\nWorking from home\\n\\n\\n\\n\\n\\n\\n\\n\\n\\n          Muhammad Sheryar\\n        \\n\\n          Sheryar-bit\\n\\n        \\n\\n\\n\\n\\n\\n\\n\\n🏠\\n\\n\\nWorking from home\\n\\n\\n\\n\\n\\n\\n\\n\\n\\n\\n\\nFollow\\n\\n\\n\\n\\n\\n\\nShaping Future Algorithms | LLM Integrations | Backend | Node.JS | NestJS | SQL/NoSQL |  SWE Intern @ SSGC\\n\\n\\n\\n\\n\\n\\n6\\n          followers\\n        · \\n14\\n          following\\n \\n\\n\\n\\nDHA SUFFA UNIVERSITY\\n\\n\\nPakistan\\n\\n\\n\\n  02:16\\n  (UTC -12:00)\\n\\n\\n\\n\\n\\nhttps://muhammad-sheryar-portfolio.vercel.app/\\n\\nLinkedIn\\n\\n\\n\\n\\nin/sheryar-ali-53349a219\\n\\n\\n\\n\\nAchievementsAchievements\\n \\nBlock or Report\\n\\n\\n\\n\\n\\n\\n\\n\\n        Block or report Sheryar-bit\\n      \\n\\n\\n\\n\\n\\n\\n\\n\\n\\n \\n\\n\\n\\nBlock user\\n\\n            Prevent this user from interacting with your repositories and sending you notifications.\\n          Learn more about blocking users.\\n        \\n\\n              You must be logged in to block users.\\n            \\n\\n\\n\\n        Add an optional note:\\n\\n\\n\\n\\n\\n\\n\\n\\n\\n\\n\\n\\n\\nPlease don't include any personal information such as legal names or email addresses. Maximum 100 characters, markdown supported. This note will be visible to only you.\\n\\n\\n\\n          Block user\\n        \\n \\n\\nReport abuse\\n\\n        Contact GitHub support about this user’s behavior.\\n        Learn more about reporting abuse.\\n      \\nReport abuse\\n\\n\\n\\n\\n\\n\\n\\n \\n\\n\\n\\n\\n\\n    Overview\\n\\n\\n\\n\\n\\n    Repositories\\n    36\\n\\n\\n\\n\\n\\n    Projects\\n    0\\n\\n\\n\\n\\n\\n      Packages\\n      0\\n\\n\\n\\n\\n\\n    Stars\\n    43\\n\\n\\n\\n\\n\\n \\n\\n\\n\\nMore\\n\\n\\n \\n\\n\\nOverview\\n\\n\\nRepositories\\n\\n\\nProjects\\n\\n\\nPackages\\n\\n\\nStars\\n\\n\\n\\n\\n\\n\\n\\n\\n\\n\\n\\n\\n\\nSheryar-bit/README.md\\n\\n\\n\\n\\n\\nBridging Theory with Practical Application in Software Development\\n\\nView Sheryar Portfolio\\n\\n\\n\\n\\nAbout Me:\\nI’m currently working on Backend development projects with Node.js, NestJS and Databases. I’m looking to collaborate on Backend-focused projects, especially those involving database management or APIs.I’m looking for help with Learning advanced backend development concepts and frameworks.I’m currently learning Core Backend Development with Advanced NodeJS, Databases, NestJS, DSA.Ask me about backend development, Node.JS, Express.JS, APIs, Database, Java, JavaScript, and software development.Fun fact I want to build Products not Projects!\\n🌐 Socials:\\n . \\n💻 Tech Stack:\\n         \\n       \\n📊 GitHub Stats:\\n\\n\\n🏆 GitHub Trophies\\n\\n🔝 Top Contributed Repo\\n\\n\\n\\n\\n\\n\\n\\n\\n\\n      Pinned\\n    \\n\\n\\n\\n Loading\\n\\n\\n\\n\\n\\n\\n\\n\\n\\n\\n\\n\\nPainPals-GSC PainPals-GSC Public\\n\\n\\n\\n          Forked from ShanzayKn/PainPals-GSC\\n\\n\\n        Google solution Challenge \\n      \\n\\n\\n\\nJavaScript\\n\\n\\n\\n\\n\\n            1\\n          \\n\\n\\n\\n\\n\\n\\n\\n\\n\\n\\n\\n\\nNestJS-Mystery NestJS-Mystery Public\\n\\n\\n\\n        NestJS Learning Repository, with in depth backend \\n      \\n\\n\\n\\nTypeScript\\n\\n\\n\\n\\n\\n            1\\n          \\n\\n\\n\\n\\n\\n\\n\\n\\n\\n\\n\\n\\nRAG-LangChain-Practice-Projects RAG-LangChain-Practice-Projects Public\\n\\n\\n\\n        RAG + Lang Chain practice projects Repository. Mostly models pulled from Ollama\\n      \\n\\n\\n\\nJupyter Notebook\\n\\n\\n\\n\\n\\n            1\\n          \\n\\n\\n\\n\\n\\n\\n\\n\\n\\n\\n\\n\\nAI-Integrations AI-Integrations Public\\n\\n\\n\\n        AI Projects with Python, NodeJS, OpenAI, LangChain, Vector DB, Hugging Face\\n      \\n\\n\\n\\nPython\\n\\n\\n\\n\\n\\n            1\\n          \\n\\n\\n\\n\\n\\n\\n\\n\\n\\n\\n\\n\\nTrack-Me Track-Me Public\\n\\n\\n\\n        The Live Location Tracking System is a full stack real-time application that allows users to share their live location and admins to view the locations of all users on a map. Built with React, Node…\\n      \\n\\n\\n\\nJavaScript\\n\\n\\n\\n\\n\\n            1\\n          \\n\\n\\n\\n\\n\\n\\n\\n\\n\\n\\n\\n\\nInventory-Tracking-System Inventory-Tracking-System Public\\n\\n\\n\\n        Inventory Tracking System—starting from a single kiryana store and evolving into a multi-store, multi-supplier platform with built-in audit capabilities. This system must be designed for high perfo…\\n      \\n\\n\\n\\nJavaScript\\n\\n\\n\\n\\n\\n            1\\n          \\n\\n\\n\\n\\n\\n\\n\\n\\n\\n\\n\\n\\n\\n\\n\\n\\n\\n          Something went wrong, please refresh the page to try again.\\n          If the problem persists, check the GitHub status page\\n          or contact support.\\n        \\n\\n\\n\\n\\n        Uh oh!\\n\\n There was an error while loading. Please reload this page.\\n\\n \\n \\n\\n\\n\\n\\n\\n\\n\\n\\nFooter\\n\\n\\n\\n\\n\\n\\n\\n\\n        © 2025 GitHub,\\xa0Inc.\\n      \\n\\n\\nFooter navigation\\n\\n\\nTerms\\n\\n\\nPrivacy\\n\\n\\nSecurity\\n\\n\\nStatus\\n\\n\\nDocs\\n\\n\\nContact\\n\\n\\n\\n\\n       Manage cookies\\n    \\n\\n\\n\\n\\n\\n      Do not share my personal information\\n    \\n\\n\\n\\n\\n\\n\\n\\n\\n\\n\\n\\n\\n\\n\\n\\n\\n    You can’t perform that action at this time.\\n  \\n\\n\\n\\n\\n\\n\\n\\n\\n\\n\\n\\n\\n\")]\n"
     ]
    }
   ],
   "source": [
    "print(docs)"
   ]
  },
  {
   "cell_type": "code",
   "execution_count": null,
   "id": "9200b8cb-b158-4df5-985d-7914f58866a6",
   "metadata": {},
   "outputs": [],
   "source": []
  }
 ],
 "metadata": {
  "kernelspec": {
   "display_name": "Python 3 (ipykernel)",
   "language": "python",
   "name": "python3"
  },
  "language_info": {
   "codemirror_mode": {
    "name": "ipython",
    "version": 3
   },
   "file_extension": ".py",
   "mimetype": "text/x-python",
   "name": "python",
   "nbconvert_exporter": "python",
   "pygments_lexer": "ipython3",
   "version": "3.9.5"
  }
 },
 "nbformat": 4,
 "nbformat_minor": 5
}
